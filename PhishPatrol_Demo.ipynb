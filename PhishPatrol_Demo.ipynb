{
 "cells": [
  {
   "cell_type": "code",
   "execution_count": 1,
   "metadata": {},
   "outputs": [
    {
     "data": {
      "text/plain": [
       "'\\n# PhishPatrol Demonstration\\nThis notebook demonstrates the following:\\n1. Training a phishing detection model using a sample dataset.\\n2. Testing the model with sample phishing and legitimate emails.\\n3. Instructions for running the Flask server to enable frontend functionality.\\n\\n**Authors:** Varad Rasalkar, Megan Kerni, Khushi Raju, Fiza Khwaja\\n'"
      ]
     },
     "execution_count": 1,
     "metadata": {},
     "output_type": "execute_result"
    }
   ],
   "source": [
    "# Cell 1: Introduction\n",
    "\"\"\"\n",
    "# PhishPatrol Demonstration\n",
    "This notebook demonstrates the following:\n",
    "1. Training a phishing detection model using a sample dataset.\n",
    "2. Testing the model with sample phishing and legitimate emails.\n",
    "3. Instructions for running the Flask server to enable frontend functionality.\n",
    "\n",
    "**Authors:** Varad Rasalkar\n",
    "\"\"\"\n"
   ]
  },
  {
   "cell_type": "code",
   "execution_count": 2,
   "metadata": {},
   "outputs": [
    {
     "name": "stdout",
     "output_type": "stream",
     "text": [
      "Requirement already satisfied: scikit-learn in /Users/varadrasalkar/myenv/lib/python3.13/site-packages (1.5.2)\n",
      "Requirement already satisfied: numpy>=1.19.5 in /Users/varadrasalkar/myenv/lib/python3.13/site-packages (from scikit-learn) (2.1.3)\n",
      "Requirement already satisfied: scipy>=1.6.0 in /Users/varadrasalkar/myenv/lib/python3.13/site-packages (from scikit-learn) (1.14.1)\n",
      "Requirement already satisfied: joblib>=1.2.0 in /Users/varadrasalkar/myenv/lib/python3.13/site-packages (from scikit-learn) (1.4.2)\n",
      "Requirement already satisfied: threadpoolctl>=3.1.0 in /Users/varadrasalkar/myenv/lib/python3.13/site-packages (from scikit-learn) (3.5.0)\n"
     ]
    }
   ],
   "source": [
    "# Cell 2: Setup\n",
    "# Install required libraries (uncomment the lines below if needed)\n",
    "# !pip install pandas scikit-learn flask\n",
    "# !pip3 install scikit-learn\n",
    "\n",
    "# Import required libraries\n",
    "import os\n",
    "import pandas as pd\n",
    "from sklearn.feature_extraction.text import TfidfVectorizer\n",
    "from sklearn.ensemble import RandomForestClassifier\n",
    "from sklearn.model_selection import train_test_split\n",
    "import re\n",
    "import string\n"
   ]
  },
  {
   "cell_type": "code",
   "execution_count": 4,
   "metadata": {},
   "outputs": [],
   "source": [
    "# Cell 3: Preprocessing Function\n",
    "def preprocess_email(email_text):\n",
    "    email_text = email_text.lower()\n",
    "    email_text = re.sub(r'http\\S+|www\\.\\S+', '', email_text)\n",
    "    email_text = email_text.translate(str.maketrans('', '', string.punctuation))\n",
    "    email_text = re.sub(r'\\d+', '', email_text)\n",
    "    return email_text"
   ]
  },
  {
   "cell_type": "code",
   "execution_count": 5,
   "metadata": {},
   "outputs": [
    {
     "name": "stdout",
     "output_type": "stream",
     "text": [
      "Loaded dataset with 33715 emails.\n"
     ]
    },
    {
     "data": {
      "text/html": [
       "<div>\n",
       "<style scoped>\n",
       "    .dataframe tbody tr th:only-of-type {\n",
       "        vertical-align: middle;\n",
       "    }\n",
       "\n",
       "    .dataframe tbody tr th {\n",
       "        vertical-align: top;\n",
       "    }\n",
       "\n",
       "    .dataframe thead th {\n",
       "        text-align: right;\n",
       "    }\n",
       "</style>\n",
       "<table border=\"1\" class=\"dataframe\">\n",
       "  <thead>\n",
       "    <tr style=\"text-align: right;\">\n",
       "      <th></th>\n",
       "      <th>email</th>\n",
       "      <th>label</th>\n",
       "    </tr>\n",
       "  </thead>\n",
       "  <tbody>\n",
       "    <tr>\n",
       "      <th>0</th>\n",
       "      <td>subject ena sales on hpl\\njust to update you o...</td>\n",
       "      <td>0</td>\n",
       "    </tr>\n",
       "    <tr>\n",
       "      <th>1</th>\n",
       "      <td>subject        for   ua  issues \\nthe above re...</td>\n",
       "      <td>0</td>\n",
       "    </tr>\n",
       "    <tr>\n",
       "      <th>2</th>\n",
       "      <td>subject hpl nominations for december   \\n see ...</td>\n",
       "      <td>0</td>\n",
       "    </tr>\n",
       "    <tr>\n",
       "      <th>3</th>\n",
       "      <td>subject revised nom  kcs resources\\ndaren \\nit...</td>\n",
       "      <td>0</td>\n",
       "    </tr>\n",
       "    <tr>\n",
       "      <th>4</th>\n",
       "      <td>subject new production  sitara deals needed\\nd...</td>\n",
       "      <td>0</td>\n",
       "    </tr>\n",
       "  </tbody>\n",
       "</table>\n",
       "</div>"
      ],
      "text/plain": [
       "                                               email  label\n",
       "0  subject ena sales on hpl\\njust to update you o...      0\n",
       "1  subject        for   ua  issues \\nthe above re...      0\n",
       "2  subject hpl nominations for december   \\n see ...      0\n",
       "3  subject revised nom  kcs resources\\ndaren \\nit...      0\n",
       "4  subject new production  sitara deals needed\\nd...      0"
      ]
     },
     "execution_count": 5,
     "metadata": {},
     "output_type": "execute_result"
    }
   ],
   "source": [
    "# Cell 4: Load Dataset\n",
    "# Specify the dataset path\n",
    "dataset_path = 'emails_dataset.csv'  # Ensure this file is in the same directory\n",
    "\n",
    "# Load the dataset\n",
    "if not os.path.exists(dataset_path):\n",
    "    raise FileNotFoundError(f\"Dataset not found at {dataset_path}\")\n",
    "\n",
    "data = pd.read_csv(dataset_path)\n",
    "print(f\"Loaded dataset with {len(data)} emails.\")\n",
    "\n",
    "# Preprocess the email content\n",
    "data['email'] = data['email'].apply(preprocess_email)\n",
    "\n",
    "# Display a sample of the dataset\n",
    "data.head()\n"
   ]
  },
  {
   "cell_type": "code",
   "execution_count": 6,
   "metadata": {},
   "outputs": [
    {
     "name": "stdout",
     "output_type": "stream",
     "text": [
      "Model training completed.\n"
     ]
    }
   ],
   "source": [
    "# Cell 5: Train the Model\n",
    "# Split the data\n",
    "X_train, X_test, y_train, y_test = train_test_split(\n",
    "    data['email'], data['label'], test_size=0.2, random_state=42\n",
    ")\n",
    "\n",
    "# Extract features using TF-IDF\n",
    "vectorizer = TfidfVectorizer(max_features=5000, stop_words='english')\n",
    "X_train_tfidf = vectorizer.fit_transform(X_train)\n",
    "X_test_tfidf = vectorizer.transform(X_test)\n",
    "\n",
    "# Train a Random Forest Classifier\n",
    "model = RandomForestClassifier(n_estimators=100, random_state=42)\n",
    "model.fit(X_train_tfidf, y_train)\n",
    "\n",
    "print(\"Model training completed.\")"
   ]
  },
  {
   "cell_type": "code",
   "execution_count": 10,
   "metadata": {},
   "outputs": [
    {
     "name": "stdout",
     "output_type": "stream",
     "text": [
      "Phishing Email Prediction:\n",
      "Phishing Likelihood: 86.00%\n",
      "Legitimate Likelihood: 14.00%\n",
      "\n",
      "Legitimate Email Prediction:\n",
      "Phishing Likelihood: 3.00%\n",
      "Legitimate Likelihood: 97.00%\n"
     ]
    }
   ],
   "source": [
    "# Cell 6: Test the Model\n",
    "# Define sample emails\n",
    "phishing_email = \"\"\"\n",
    "Congrats! You've won a free lottery ticket. Click here to claim your prize.\n",
    "\"\"\"\n",
    "legitimate_email = \"\"\"\n",
    "Hi team, let's schedule a meeting to discuss the project timeline.\n",
    "\"\"\"\n",
    "\n",
    "# Preprocess and transform the sample emails\n",
    "phishing_tfidf = vectorizer.transform([preprocess_email(phishing_email)])\n",
    "legitimate_tfidf = vectorizer.transform([preprocess_email(legitimate_email)])\n",
    "\n",
    "# Predict probabilities\n",
    "phishing_pred = model.predict_proba(phishing_tfidf)[0]\n",
    "legitimate_pred = model.predict_proba(legitimate_tfidf)[0]\n",
    "\n",
    "# Display predictions\n",
    "print(\"Phishing Email Prediction:\")\n",
    "print(f\"Phishing Likelihood: {phishing_pred[1] * 100:.2f}%\")\n",
    "print(f\"Legitimate Likelihood: {phishing_pred[0] * 100:.2f}%\\n\")\n",
    "\n",
    "print(\"Legitimate Email Prediction:\")\n",
    "print(f\"Phishing Likelihood: {legitimate_pred[1] * 100:.2f}%\")\n",
    "print(f\"Legitimate Likelihood: {legitimate_pred[0] * 100:.2f}%\")\n"
   ]
  },
  {
   "cell_type": "code",
   "execution_count": 11,
   "metadata": {},
   "outputs": [
    {
     "name": "stdout",
     "output_type": "stream",
     "text": [
      "Starting the Flask server. Access the frontend at http://127.0.0.1:5000/\n"
     ]
    },
    {
     "name": "stdout",
     "output_type": "stream",
     "text": [
      "Model training completed.\n",
      " * Serving Flask app 'app'\n",
      " * Debug mode: on\n"
     ]
    },
    {
     "name": "stderr",
     "output_type": "stream",
     "text": [
      "\u001b[31m\u001b[1mWARNING: This is a development server. Do not use it in a production deployment. Use a production WSGI server instead.\u001b[0m\n",
      " * Running on http://127.0.0.1:5000\n",
      "\u001b[33mPress CTRL+C to quit\u001b[0m\n",
      " * Restarting with stat\n"
     ]
    },
    {
     "name": "stdout",
     "output_type": "stream",
     "text": [
      "Model training completed.\n"
     ]
    },
    {
     "name": "stderr",
     "output_type": "stream",
     "text": [
      " * Debugger is active!\n",
      " * Debugger PIN: 100-450-595\n",
      "127.0.0.1 - - [08/Dec/2024 17:02:40] \"GET / HTTP/1.1\" 200 -\n",
      "127.0.0.1 - - [08/Dec/2024 17:02:40] \"\u001b[36mGET /static/styles.css HTTP/1.1\u001b[0m\" 304 -\n",
      "127.0.0.1 - - [08/Dec/2024 17:02:40] \"\u001b[36mGET /static/script.js HTTP/1.1\u001b[0m\" 304 -\n",
      "127.0.0.1 - - [08/Dec/2024 17:02:40] \"\u001b[36mGET /static/images/logo.svg HTTP/1.1\u001b[0m\" 304 -\n",
      "127.0.0.1 - - [08/Dec/2024 17:02:46] \"POST /predict HTTP/1.1\" 200 -\n",
      "127.0.0.1 - - [08/Dec/2024 17:02:56] \"POST /predict HTTP/1.1\" 200 -\n"
     ]
    }
   ],
   "source": [
    "# Cell 7: Running the Flask Server\n",
    "\"\"\"\n",
    "## Running the Flask Server\n",
    "To run the frontend, follow these steps:\n",
    "1. Open a terminal in the project directory.\n",
    "2. Start the Flask server by running the following command: python3 app.py\n",
    "3. Open your browser and navigate to `http://127.0.0.1:5000/` to access the frontend.\n",
    "\"\"\"\n",
    "## OR ---\n",
    "\n",
    "# Uncomment line below if needed\n",
    "#!pip install flask\n",
    "import subprocess\n",
    "\n",
    "# Start Flask server in a non-blocking way\n",
    "print(\"Starting the Flask server. Access the frontend at http://127.0.0.1:5000/\")\n",
    "process = subprocess.Popen([\"python3\", \"app.py\"])\n",
    "\n",
    "# Optionally, stop the Flask server if needed\n",
    "# process.terminate()\n"
   ]
  }
 ],
 "metadata": {
  "kernelspec": {
   "display_name": "Python (myenv)",
   "language": "python",
   "name": "myenv"
  },
  "language_info": {
   "codemirror_mode": {
    "name": "ipython",
    "version": 3
   },
   "file_extension": ".py",
   "mimetype": "text/x-python",
   "name": "python",
   "nbconvert_exporter": "python",
   "pygments_lexer": "ipython3",
   "version": "3.13.0"
  },
  "orig_nbformat": 4
 },
 "nbformat": 4,
 "nbformat_minor": 2
}
